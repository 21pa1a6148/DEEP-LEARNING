{
  "nbformat": 4,
  "nbformat_minor": 0,
  "metadata": {
    "colab": {
      "provenance": [],
      "include_colab_link": true
    },
    "kernelspec": {
      "name": "python3",
      "display_name": "Python 3"
    },
    "language_info": {
      "name": "python"
    }
  },
  "cells": [
    {
      "cell_type": "markdown",
      "metadata": {
        "id": "view-in-github",
        "colab_type": "text"
      },
      "source": [
        "<a href=\"https://colab.research.google.com/github/21pa1a6148/DEEP-LEARNING/blob/main/exp_3_Simple_Neural_Network.ipynb\" target=\"_parent\"><img src=\"https://colab.research.google.com/assets/colab-badge.svg\" alt=\"Open In Colab\"/></a>"
      ]
    },
    {
      "cell_type": "markdown",
      "source": [
        "# **Experiment-3**\n",
        "\n",
        "---\n",
        "\n"
      ],
      "metadata": {
        "id": "lwotv4L0gMyn"
      }
    },
    {
      "cell_type": "markdown",
      "source": [
        "# **Simple Neural Network**"
      ],
      "metadata": {
        "id": "cqrNe3XuhZsJ"
      }
    },
    {
      "cell_type": "markdown",
      "source": [
        "\n",
        "The simplest type of neural network is a single-layer perceptron. It consists of one input layer and one output layer, with no hidden layers. The perceptron takes a set of input features and produces a binary output based on a weighted sum of the inputs. The weights are adjusted during training to optimize the output."
      ],
      "metadata": {
        "id": "PXF2MXSXo3PD"
      }
    },
    {
      "cell_type": "code",
      "execution_count": null,
      "metadata": {
        "id": "pzyjCDomJteF"
      },
      "outputs": [],
      "source": [
        "import numpy as np"
      ]
    },
    {
      "cell_type": "code",
      "source": [
        "class NeuralNetwork():\n",
        "\n",
        "    def __init__(self):\n",
        "        np.random.seed(1)\n",
        "\n",
        "        self.synaptic_weights = 2 * np.random.random((3, 1)) - 1\n",
        "\n",
        "    def sigmoid(self, x):\n",
        "        return 1 / (1 + np.exp(-x))\n",
        "\n",
        "    def sigmoid_derivative(self, x):\n",
        "        return x * (1 - x)\n",
        "\n",
        "    def train(self, training_inputs, training_outputs, training_iterations):\n",
        "\n",
        "        for iteration in range(training_iterations):\n",
        "            output = self.think(training_inputs)\n",
        "\n",
        "            error = training_outputs - output\n",
        "\n",
        "            adjustments = np.dot(training_inputs.T, error * self.sigmoid_derivative(output))\n",
        "\n",
        "            self.synaptic_weights += adjustments\n",
        "\n",
        "    def think(self, inputs):\n",
        "\n",
        "\n",
        "        inputs = inputs.astype(float)\n",
        "        output = self.sigmoid(np.dot(inputs, self.synaptic_weights))\n",
        "        return output\n"
      ],
      "metadata": {
        "id": "mmFVZrNxJvCS"
      },
      "execution_count": null,
      "outputs": []
    },
    {
      "cell_type": "code",
      "source": [
        "if __name__ == \"__main__\":\n",
        "  neural_network = NeuralNetwork()\n",
        "  print(\"Random starting synaptic weights: \")\n",
        "  print(neural_network.synaptic_weights)\n",
        "\n",
        "  training_set_inputs = array([[0, 0, 1], [1, 1, 1], [1, 0, 1], [0, 1, 1]])\n",
        "  training_set_outputs = array([[0, 1, 1, 0]]).T\n",
        "\n",
        "  neural_network.train(training_set_inputs, training_set_outputs, 10000)\n",
        "\n",
        "  print(\"New synaptic weights after training: \")\n",
        "  print(neural_network.synaptic_weights)\n",
        "\n",
        "  print(\"Considering new situation [1, 0, 0] -> ?: \")\n",
        "  print(neural_network.think(array([1, 0, 0])))"
      ],
      "metadata": {
        "colab": {
          "base_uri": "https://localhost:8080/"
        },
        "id": "sMasE_W3gElA",
        "outputId": "a6b2f8d5-5262-408b-e057-1631c6ffbaaa"
      },
      "execution_count": null,
      "outputs": [
        {
          "output_type": "stream",
          "name": "stdout",
          "text": [
            "Random starting synaptic weights: \n",
            "[[-0.16595599]\n",
            " [ 0.44064899]\n",
            " [-0.99977125]]\n",
            "New synaptic weights after training: \n",
            "[[ 9.67299303]\n",
            " [-0.2078435 ]\n",
            " [-4.62963669]]\n",
            "Considering new situation [1, 0, 0] -> ?: \n",
            "[0.99993704]\n"
          ]
        }
      ]
    },
    {
      "cell_type": "code",
      "source": [],
      "metadata": {
        "id": "d70_WGP7gInI"
      },
      "execution_count": null,
      "outputs": []
    }
  ]
}